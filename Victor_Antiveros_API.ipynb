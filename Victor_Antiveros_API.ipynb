{
 "cells": [
  {
   "cell_type": "code",
   "execution_count": 1,
   "metadata": {},
   "outputs": [],
   "source": [
    "######################################\n",
    "import warnings\n",
    "warnings.filterwarnings('ignore')\n",
    "import json\n",
    "import csv\n",
    "import requests\n",
    "import os.path\n",
    "import oauth2client\n",
    "import gspread\n",
    "import json\n",
    "from   oauth2client.service_account import ServiceAccountCredentials\n",
    "from bs4 import BeautifulSoup, NavigableString"
   ]
  },
  {
   "cell_type": "code",
   "execution_count": 2,
   "metadata": {},
   "outputs": [],
   "source": [
    "from api_yelo import get_all_merchants\n",
    "from api_yelo import json_to_string\n",
    "#from api_yelo import insert_product\n",
    "from api_yelo import get_catalog\n",
    "from api_yelo import update_product\n",
    "from api_yelo import disable_product\n",
    "from api_yelo import delete_product\n",
    "from api_yelo import get_all_products\n",
    "from api_yelo import get_product\n",
    "from api_yelo import get_category_name\n",
    "from api_yelo import concat_images\n",
    "from api_yelo import chang1"
   ]
  },
  {
   "cell_type": "code",
   "execution_count": 3,
   "metadata": {},
   "outputs": [],
   "source": [
    "#######################################################\n",
    "# Step 0: Share Google Drive Worksheet to this email ..\n",
    "#######################################################\n",
    "#'client_email': 'catalogodtt@iconic-post-192814.iam.gserviceaccount.com'"
   ]
  },
  {
   "cell_type": "code",
   "execution_count": 4,
   "metadata": {},
   "outputs": [],
   "source": [
    "##############################################\n",
    "# Step 1: Read Google Drive Excel Worksheet ..\n",
    "##############################################\n",
    "json_key = json.load(open('creds.json'))\n",
    "scope = ['https://spreadsheets.google.com/feeds','https://www.googleapis.com/auth/drive']\n",
    "creds = ServiceAccountCredentials.from_json_keyfile_name('creds.json', scope)\n",
    "client = gspread.authorize(creds)\n",
    "sheet_victor_antiveros = client.open('Codificacion Productos Kiwua API').worksheet('Víctor Antivero (P&B)')"
   ]
  },
  {
   "cell_type": "code",
   "execution_count": 5,
   "metadata": {},
   "outputs": [],
   "source": [
    "api_key             = 'aafb702727d770509efb0b2e7576ce4f'\n",
    "marketplace_user_id = 157755\n",
    "user_id             = int(get_all_merchants().get(\"Víctor Antivero\"))"
   ]
  },
  {
   "cell_type": "code",
   "execution_count": 6,
   "metadata": {},
   "outputs": [
    {
     "data": {
      "text/plain": [
       "{'Víctor Antivero': 318980,\n",
       " 'Tony como Proveedor': 290144,\n",
       " 'Tienda': 291239,\n",
       " 'test': 319905,\n",
       " 'Subway': 314801,\n",
       " 'Quick Meats': 332562,\n",
       " 'Portonovo': 308994,\n",
       " 'PIAZZA Automercados': 321621,\n",
       " 'Monte Cacao': 342619,\n",
       " 'Kit para Kiwuanos': 362595,\n",
       " 'Johana Silva': 313384,\n",
       " 'INCA': 308071,\n",
       " 'Haidee Rodriguez': 313481,\n",
       " 'Fundación Nativo': 267942,\n",
       " 'El Huerto de Altamira': 319885,\n",
       " 'Distribuidora TT': 157756,\n",
       " 'Distribuidora Tienda Tienda': 321750,\n",
       " 'Disjobel': 157755,\n",
       " \"Carnicería ZOE's\": 157758,\n",
       " 'Barco Pesca': 157757}"
      ]
     },
     "execution_count": 6,
     "metadata": {},
     "output_type": "execute_result"
    }
   ],
   "source": [
    "merchants=get_all_merchants()\n",
    "merchants"
   ]
  },
  {
   "cell_type": "code",
   "execution_count": 7,
   "metadata": {},
   "outputs": [],
   "source": [
    "# delete_product(product_id=3894030,user_id=user_id)\n",
    "# delete_product(product_id=3894039,user_id=user_id)\n",
    "# delete_product(product_id=3894080,user_id=user_id)"
   ]
  },
  {
   "cell_type": "code",
   "execution_count": 8,
   "metadata": {},
   "outputs": [
    {
     "data": {
      "text/plain": [
       "{321621: 1.08, 157756: 1.08, 319885: 1.08, 318980: 1.15, 157755: 1.15}"
      ]
     },
     "execution_count": 8,
     "metadata": {},
     "output_type": "execute_result"
    }
   ],
   "source": [
    "merchant_to_set_markup = dict()\n",
    "merchant_to_set_markup[merchants['PIAZZA Automercados']]   = 1.08\n",
    "merchant_to_set_markup[merchants['Distribuidora TT']]      = 1.08\n",
    "merchant_to_set_markup[merchants['El Huerto de Altamira']] = 1.08\n",
    "merchant_to_set_markup[merchants['Víctor Antivero']]       = 1.15\n",
    "merchant_to_set_markup[merchants['Disjobel']]              = 1.15\n",
    "merchant_to_set_markup"
   ]
  },
  {
   "cell_type": "code",
   "execution_count": 9,
   "metadata": {},
   "outputs": [],
   "source": [
    "user_bs_dollar = {\n",
    " 'Víctor Antivero': 318980}"
   ]
  },
  {
   "cell_type": "code",
   "execution_count": 10,
   "metadata": {},
   "outputs": [],
   "source": [
    "url_bcv='http://www.bcv.org.ve/estadisticas/tipo-de-cambio'"
   ]
  },
  {
   "cell_type": "code",
   "execution_count": 11,
   "metadata": {},
   "outputs": [],
   "source": [
    "def concat_images(*args):\n",
    "    if len(args)==1:\n",
    "        return list(args)\n",
    "    else:\n",
    "        return [i for i in args]\n",
    "\n",
    "def verify_insert_conditions(category_id,price,description,image_url):\n",
    "    if(category_id!=None) and (price>0.1) and (image_url!=[\"\", \"\", \"\", \"\", \"\", \"\"]):\n",
    "        resp = True\n",
    "    else:\n",
    "        resp = False\n",
    "    return resp\n",
    "\n",
    "def update_product(user_id,product_id,name,price,image_url=None,description=None):\n",
    "    body=dict()\n",
    "    body[\"api_key\"]             = \"aafb702727d770509efb0b2e7576ce4f\"\n",
    "    body[\"marketplace_user_id\"] = 157755\n",
    "    body[\"user_id\"]             = user_id\n",
    "    body[\"product_id\"]          = product_id\n",
    "    body[\"name\"]                = name\n",
    "    body[\"price\"]               = price\n",
    "    if description!=None: \n",
    "        body[\"description\"]     = description\n",
    "    if image_url!=None:\n",
    "        body[\"multi_image_url\"] = [image_url]\n",
    "\n",
    "    headers = {\n",
    "             \"Content-Type\"      : \"application/json\",\n",
    "             \"cache-control\"     : \"no-cache\"\n",
    "             }\n",
    "    \n",
    "    #print('update\\n',json_to_string(body))\n",
    "\n",
    "    try:\n",
    "        url = \"https://api.yelo.red/open/product/edit\"\n",
    "        response = requests.post(url     = url,\n",
    "                                 data    = json_to_string(body),\n",
    "                                 headers = headers)\n",
    "        print('update:',response.json())\n",
    "        print('-'*80)\n",
    "        return 0\n",
    "    except:\n",
    "        return 1\n",
    "    \n",
    "def insert_product(user_id, name, price, category_id,image_url, description=None, long_description=None):\n",
    "    payload = dict()\n",
    "    payload[\"api_key\"]               = \"aafb702727d770509efb0b2e7576ce4f\"\n",
    "    payload[\"user_id\"]               = user_id\n",
    "    payload[\"marketplace_user_id\"]   = 157755\n",
    "    payload[\"name\"]                  = name\n",
    "    payload[\"name_json\"]             = {\"es\": name}\n",
    "    if description!=None:\n",
    "        payload[\"description\"]           = description\n",
    "        payload[\"description_json\"]      = {\"es\": description}\n",
    "    if long_description!=None:\n",
    "        payload[\"long_description_json\"] = {\"es\": long_description}\n",
    "    payload[\"parent_category_id\"]    = category_id\n",
    "    if image_url!=None:\n",
    "        payload[\"multi_image_url\"]       = image_url\n",
    "    payload[\"inventory_enabled\"]     = 0\n",
    "    payload[\"available_quantity\"]    = 100\n",
    "    payload[\"price\"]                 = price\n",
    "    body     = json_to_string(payload)\n",
    "    print('insert\\n',body.replace('\\'','\\\"'))\n",
    "    headers  = {'Content-Type': \"application/json\",'cache-control': \"no-cache\"}\n",
    "    try:\n",
    "        response = requests.request(\"POST\",\n",
    "                                    \"https://api.yelo.red/open/product/add\", \n",
    "                                    data=body, \n",
    "                                    headers=headers)\n",
    "        print('insert:',name,response.json())\n",
    "        print('\\n'+'-'*80)\n",
    "        return 0\n",
    "    except:\n",
    "        return 1"
   ]
  },
  {
   "cell_type": "code",
   "execution_count": 12,
   "metadata": {},
   "outputs": [
    {
     "data": {
      "text/plain": [
       "171072.85"
      ]
     },
     "execution_count": 12,
     "metadata": {},
     "output_type": "execute_result"
    }
   ],
   "source": [
    "html      = requests.get(url_bcv).text\n",
    "soup      = BeautifulSoup(html)\n",
    "\n",
    "tasa=soup.find('div',{'id':'dolar'})\n",
    "tasa_cambio_bs_dollar = float(tasa.strong.text.replace(' ','').replace('.','').replace(',','.'))\n",
    "tasa_cambio_bs_dollar"
   ]
  },
  {
   "cell_type": "code",
   "execution_count": 13,
   "metadata": {},
   "outputs": [
    {
     "data": {
      "text/plain": [
       "{'Cuidado Personal': 726553,\n",
       " 'Jabón & Gel': 1098968,\n",
       " 'Desodorante': 1098969,\n",
       " 'Alimento': 1098971}"
      ]
     },
     "execution_count": 13,
     "metadata": {},
     "output_type": "execute_result"
    }
   ],
   "source": [
    "categorias_victor_antiveros = get_catalog(user_id=user_id)\n",
    "categorias_victor_antiveros"
   ]
  },
  {
   "cell_type": "code",
   "execution_count": 14,
   "metadata": {},
   "outputs": [],
   "source": [
    "products_kiwua = get_all_products(user_id)"
   ]
  },
  {
   "cell_type": "code",
   "execution_count": 15,
   "metadata": {},
   "outputs": [
    {
     "name": "stdout",
     "output_type": "stream",
     "text": [
      "Register imcomplete [None, 1.74, '', ['', '', '', '', '', '']]\n",
      "Register imcomplete [None, 1.74, '', ['', '', '', '', '', '']]\n",
      "Register imcomplete [None, 0.0, '', ['', '', '', '', '', '']]\n",
      "Register imcomplete [None, 0.0, '', ['', '', '', '', '', '']]\n",
      "Register imcomplete [None, 0.0, '', ['', '', '', '', '', '']]\n",
      "Register imcomplete [None, 0.0, '', ['', '', '', '', '', '']]\n",
      "Register imcomplete [None, 0.05, '', ['', '', '', '', '', '']]\n",
      "Register imcomplete [None, 0.05, '', ['', '', '', '', '', '']]\n",
      "Register imcomplete [726553, 0.06, 'Dencofen Gel 20', ['https://res.cloudinary.com/kiwua/image/upload/v1587528069/Victor%20Antivero/Definitivas/Dencofen_1_16_C-Gel_20X48_orevj6.jpg', '', '', '', '', '']]\n",
      "insert\n",
      " {\"api_key\":\"aafb702727d770509efb0b2e7576ce4f\",\"user_id\":318980,\"marketplace_user_id\":157755,\"name\":\"Dencofen Gel 40gr\",\"name_json\":{\"es\":\"Dencofen Gel 40gr\"},\"description\":\"Dencofen Gel 40gr\",\"description_json\":{\"es\":\"Dencofen Gel 40gr\"},\"long_description_json\":{\"es\":\"De efectividad comprobada para reducir el dolor y la inflamación. También reduce el dolor, la hinchazón y la rigidez de las articulaciones causada por la artritis\"},\"parent_category_id\":726553,\"multi_image_url\":[\"https://res.cloudinary.com/kiwua/image/upload/v1587528069/Victor%20Antivero/Definitivas/Dencofen_1_16_C-Gel_40X48_baqrsg.jpg\", \"\", \"\", \"\", \"\", \"\"],\"inventory_enabled\":0,\"available_quantity\":100,\"price\":0.83}\n",
      "insert: Dencofen Gel 40gr {'message': 'Exitoso', 'status': 200, 'data': {'id': 5887179, 'multi_image_url': ['https://res.cloudinary.com/kiwua/image/upload/v1587528069/Victor%20Antivero/Definitivas/Dencofen_1_16_C-Gel_40X48_baqrsg.jpg', '', '', '', '', ''], 'thumb_url': 'https://yelodotred.s3.amazonaws.com/yelo_products/thumb-250-250-Dencofen_1_16_C-Gel_40X48_baqrsg.jpg'}}\n",
      "\n",
      "--------------------------------------------------------------------------------\n",
      "Register imcomplete [726553, 0.09, 'Dencofen Gel 80gr', ['https://res.cloudinary.com/kiwua/image/upload/v1587528084/Victor%20Antivero/Definitivas/Dencofen_1_16_C-Gel_80X48_dpw6dg.jpg', '', '', '', '', '']]\n",
      "Register imcomplete [726553, 0.83, '', ['', '', '', '', '', '']]\n",
      "Register imcomplete [726553, 0.0, 'Dencorub Crema 20', ['https://res.cloudinary.com/kiwua/image/upload/v1587528070/Victor%20Antivero/Definitivas/Dencorub_Crema_20X48_aijeby.jpg', '', '', '', '', '']]\n",
      "insert\n",
      " {\"api_key\":\"aafb702727d770509efb0b2e7576ce4f\",\"user_id\":318980,\"marketplace_user_id\":157755,\"name\":\"Dencorub Crema 40 gr\",\"name_json\":{\"es\":\"Dencorub Crema 40 gr\"},\"description\":\"Dencorub Crema 40 gr\",\"description_json\":{\"es\":\"Dencorub Crema 40 gr\"},\"long_description_json\":{\"es\":\"Es una línea de productos analgésicos de uso tópico para el alivio del dolor de músculos y articulaciones ocasionados por el ejercicio físico\"},\"parent_category_id\":726553,\"multi_image_url\":[\"https://res.cloudinary.com/kiwua/image/upload/v1587528084/Victor%20Antivero/Definitivas/Dencorub_Crema_40X48_s1psh8.jpg\", \"\", \"\", \"\", \"\", \"\"],\"inventory_enabled\":0,\"available_quantity\":100,\"price\":0.74}\n",
      "insert: Dencorub Crema 40 gr {'message': 'Exitoso', 'status': 200, 'data': {'id': 5887181, 'multi_image_url': ['https://res.cloudinary.com/kiwua/image/upload/v1587528084/Victor%20Antivero/Definitivas/Dencorub_Crema_40X48_s1psh8.jpg', '', '', '', '', ''], 'thumb_url': 'https://yelodotred.s3.amazonaws.com/yelo_products/thumb-250-250-Dencorub_Crema_40X48_s1psh8.jpg'}}\n",
      "\n",
      "--------------------------------------------------------------------------------\n",
      "insert\n",
      " {\"api_key\":\"aafb702727d770509efb0b2e7576ce4f\",\"user_id\":318980,\"marketplace_user_id\":157755,\"name\":\"Dencorub Crema 80 gr\",\"name_json\":{\"es\":\"Dencorub Crema 80 gr\"},\"description\":\"Dencorub Crema 80 gr\",\"description_json\":{\"es\":\"Dencorub Crema 80 gr\"},\"long_description_json\":{\"es\":\"Es una línea de productos analgésicos de uso tópico para el alivio del dolor de músculos y articulaciones ocasionados por el ejercicio físico\"},\"parent_category_id\":726553,\"multi_image_url\":[\"https://res.cloudinary.com/kiwua/image/upload/v1587528089/Victor%20Antivero/Definitivas/Dencorub_Crema_80X48_mcqfdq.jpg\", \"\", \"\", \"\", \"\", \"\"],\"inventory_enabled\":0,\"available_quantity\":100,\"price\":1.16}\n",
      "insert: Dencorub Crema 80 gr {'message': 'Exitoso', 'status': 200, 'data': {'id': 5887182, 'multi_image_url': ['https://res.cloudinary.com/kiwua/image/upload/v1587528089/Victor%20Antivero/Definitivas/Dencorub_Crema_80X48_mcqfdq.jpg', '', '', '', '', ''], 'thumb_url': 'https://yelodotred.s3.amazonaws.com/yelo_products/thumb-250-250-Dencorub_Crema_80X48_mcqfdq.jpg'}}\n",
      "\n",
      "--------------------------------------------------------------------------------\n",
      "insert\n",
      " {\"api_key\":\"aafb702727d770509efb0b2e7576ce4f\",\"user_id\":318980,\"marketplace_user_id\":157755,\"name\":\"Dencorub Crema 80 gr\",\"name_json\":{\"es\":\"Dencorub Crema 80 gr\"},\"description\":\"Dencorub Crema 80 gr\",\"description_json\":{\"es\":\"Dencorub Crema 80 gr\"},\"long_description_json\":{\"es\":\"Es una línea de productos analgésicos de uso tópico para el alivio del dolor de músculos y articulaciones ocasionados por el ejercicio físico\"},\"parent_category_id\":726553,\"multi_image_url\":[\"https://res.cloudinary.com/kiwua/image/upload/v1587528089/Victor%20Antivero/Definitivas/Dencorub_Crema_80X48_mcqfdq.jpg\", \"\", \"\", \"\", \"\", \"\"],\"inventory_enabled\":0,\"available_quantity\":100,\"price\":1.16}\n",
      "insert: Dencorub Crema 80 gr {'message': 'Exitoso', 'status': 200, 'data': {'id': 5887183, 'multi_image_url': ['https://res.cloudinary.com/kiwua/image/upload/v1587528089/Victor%20Antivero/Definitivas/Dencorub_Crema_80X48_mcqfdq.jpg', '', '', '', '', ''], 'thumb_url': 'https://yelodotred.s3.amazonaws.com/yelo_products/thumb-250-250-Dencorub_Crema_80X48_mcqfdq.jpg'}}\n",
      "\n",
      "--------------------------------------------------------------------------------\n",
      "Register imcomplete [726553, 0.82, '', ['', '', '', '', '', '']]\n",
      "insert\n",
      " {\"api_key\":\"aafb702727d770509efb0b2e7576ce4f\",\"user_id\":318980,\"marketplace_user_id\":157755,\"name\":\"Dencorub Gel 40 gr\",\"name_json\":{\"es\":\"Dencorub Gel 40 gr\"},\"description\":\"Dencorub Gel 40 gr\",\"description_json\":{\"es\":\"Dencorub Gel 40 gr\"},\"long_description_json\":{\"es\":\"Es una línea de productos analgésicos de uso tópico para el alivio del dolor de músculos y articulaciones ocasionados por el ejercicio físico\"},\"parent_category_id\":726553,\"multi_image_url\":[\"https://res.cloudinary.com/kiwua/image/upload/v1587528078/Victor%20Antivero/Definitivas/Dencorub_Gel_40X48_kwtzte.jpg\", \"\", \"\", \"\", \"\", \"\"],\"inventory_enabled\":0,\"available_quantity\":100,\"price\":0.82}\n",
      "insert: Dencorub Gel 40 gr {'message': 'Exitoso', 'status': 200, 'data': {'id': 5887185, 'multi_image_url': ['https://res.cloudinary.com/kiwua/image/upload/v1587528078/Victor%20Antivero/Definitivas/Dencorub_Gel_40X48_kwtzte.jpg', '', '', '', '', ''], 'thumb_url': 'https://yelodotred.s3.amazonaws.com/yelo_products/thumb-250-250-Dencorub_Gel_40X48_kwtzte.jpg'}}\n",
      "\n",
      "--------------------------------------------------------------------------------\n",
      "Register imcomplete [726553, 1.22, '', ['', '', '', '', '', '']]\n",
      "insert\n",
      " {\"api_key\":\"aafb702727d770509efb0b2e7576ce4f\",\"user_id\":318980,\"marketplace_user_id\":157755,\"name\":\"Dencorub Gel 80 gr\",\"name_json\":{\"es\":\"Dencorub Gel 80 gr\"},\"description\":\"Dencorub Gel 80 gr\",\"description_json\":{\"es\":\"Dencorub Gel 80 gr\"},\"long_description_json\":{\"es\":\"Es una línea de productos analgésicos de uso tópico para el alivio del dolor de músculos y articulaciones ocasionados por el ejercicio físico\"},\"parent_category_id\":726553,\"multi_image_url\":[\"https://res.cloudinary.com/kiwua/image/upload/v1587528077/Victor%20Antivero/Definitivas/Dencorub_Gel_80X48_duxh5e.jpg\", \"\", \"\", \"\", \"\", \"\"],\"inventory_enabled\":0,\"available_quantity\":100,\"price\":1.22}\n",
      "insert: Dencorub Gel 80 gr {'message': 'Exitoso', 'status': 200, 'data': {'id': 5887186, 'multi_image_url': ['https://res.cloudinary.com/kiwua/image/upload/v1587528077/Victor%20Antivero/Definitivas/Dencorub_Gel_80X48_duxh5e.jpg', '', '', '', '', ''], 'thumb_url': 'https://yelodotred.s3.amazonaws.com/yelo_products/thumb-250-250-Dencorub_Gel_80X48_duxh5e.jpg'}}\n",
      "\n",
      "--------------------------------------------------------------------------------\n",
      "insert\n",
      " {\"api_key\":\"aafb702727d770509efb0b2e7576ce4f\",\"user_id\":318980,\"marketplace_user_id\":157755,\"name\":\"Dencorub Ice 80g\",\"name_json\":{\"es\":\"Dencorub Ice 80g\"},\"description\":\"Dencorub Ice en cajas de 24 unidades 80g\",\"description_json\":{\"es\":\"Dencorub Ice en cajas de 24 unidades 80g\"},\"long_description_json\":{\"es\":\"Una línea de productos analgésicos de uso tópico para el alivio del dolor de músculos y articulaciones ocasionados por el ejercicio físico\"},\"parent_category_id\":726553,\"multi_image_url\":[\"https://res.cloudinary.com/kiwua/image/upload/v1587528080/Victor%20Antivero/Definitivas/Dencorub_Ice_80X24_wbpihg.jpg\", \"\", \"\", \"\", \"\", \"\"],\"inventory_enabled\":0,\"available_quantity\":100,\"price\":0.73}\n"
     ]
    },
    {
     "name": "stdout",
     "output_type": "stream",
     "text": [
      "insert: Dencorub Ice 80g {'message': 'Exitoso', 'status': 200, 'data': {'id': 5887187, 'multi_image_url': ['https://res.cloudinary.com/kiwua/image/upload/v1587528080/Victor%20Antivero/Definitivas/Dencorub_Ice_80X24_wbpihg.jpg', '', '', '', '', ''], 'thumb_url': 'https://yelodotred.s3.amazonaws.com/yelo_products/thumb-250-250-Dencorub_Ice_80X24_wbpihg.jpg'}}\n",
      "\n",
      "--------------------------------------------------------------------------------\n",
      "insert\n",
      " {\"api_key\":\"aafb702727d770509efb0b2e7576ce4f\",\"user_id\":318980,\"marketplace_user_id\":157755,\"name\":\"Dencorub Ice 40g\",\"name_json\":{\"es\":\"Dencorub Ice 40g\"},\"description\":\"Dencorub Ice en cajas de 24 unidades 40g\",\"description_json\":{\"es\":\"Dencorub Ice en cajas de 24 unidades 40g\"},\"long_description_json\":{\"es\":\"Una línea de productos analgésicos de uso tópico para el alivio del dolor de músculos y articulaciones ocasionados por el ejercicio físico\"},\"parent_category_id\":726553,\"multi_image_url\":[\"https://res.cloudinary.com/kiwua/image/upload/v1587528086/Victor%20Antivero/Definitivas/Dencorub_Ice_40X24_alreml.jpg\", \"\", \"\", \"\", \"\", \"\"],\"inventory_enabled\":0,\"available_quantity\":100,\"price\":0.56}\n",
      "insert: Dencorub Ice 40g {'message': 'Exitoso', 'status': 200, 'data': {'id': 5887188, 'multi_image_url': ['https://res.cloudinary.com/kiwua/image/upload/v1587528086/Victor%20Antivero/Definitivas/Dencorub_Ice_40X24_alreml.jpg', '', '', '', '', ''], 'thumb_url': 'https://yelodotred.s3.amazonaws.com/yelo_products/thumb-250-250-Dencorub_Ice_40X24_alreml.jpg'}}\n",
      "\n",
      "--------------------------------------------------------------------------------\n",
      "Register imcomplete [1098969, 0.31, '', ['', '', '', '', '', '']]\n",
      "Register imcomplete [1098969, 0.33, '', ['', '', '', '', '', '']]\n",
      "insert\n",
      " {\"api_key\":\"aafb702727d770509efb0b2e7576ce4f\",\"user_id\":318980,\"marketplace_user_id\":157755,\"name\":\"Gel Antibacterial 280\",\"name_json\":{\"es\":\"Gel Antibacterial 280\"},\"description\":\"Gel Antibacterial Dioxogen en cajas de 12 unidades de 280 cc\",\"description_json\":{\"es\":\"Gel Antibacterial Dioxogen en cajas de 12 unidades de 280 cc\"},\"long_description_json\":{\"es\":\"El gel antibacterial Dioxogen Med® es un producto antiséptico que se emplea como alternativa al agua y el jabón, para desinfectar las manos. Es sanitizante y se emplea para detener la propagación de gérmenes. Contiene microcápsulas de vitamina E que ayudan a hidratar y suavizar la piel.\"},\"parent_category_id\":1098968,\"multi_image_url\":[\"https://res.cloudinary.com/kiwua/image/upload/v1587614029/Victor%20Antivero/Definitivas/Diox_Inten_C_Gel_Limp_Ant_Hip_280_cmxrlq.jpg\", \"\", \"\", \"\", \"\", \"\"],\"inventory_enabled\":0,\"available_quantity\":100,\"price\":1.49}\n",
      "insert: Gel Antibacterial 280 {'message': 'Exitoso', 'status': 200, 'data': {'id': 5887189, 'multi_image_url': ['https://res.cloudinary.com/kiwua/image/upload/v1587614029/Victor%20Antivero/Definitivas/Diox_Inten_C_Gel_Limp_Ant_Hip_280_cmxrlq.jpg', '', '', '', '', ''], 'thumb_url': 'https://yelodotred.s3.amazonaws.com/yelo_products/thumb-250-250-Diox_Inten_C_Gel_Limp_Ant_Hip_280_cmxrlq.jpg'}}\n",
      "\n",
      "--------------------------------------------------------------------------------\n",
      "insert\n",
      " {\"api_key\":\"aafb702727d770509efb0b2e7576ce4f\",\"user_id\":318980,\"marketplace_user_id\":157755,\"name\":\"\",\"name_json\":{\"es\":\"\"},\"description\":\"\",\"description_json\":{\"es\":\"\"},\"long_description_json\":{\"es\":\"Es Antiséptico y está especialmente formulado para la limpieza, desinfección y humectación de la piel\"},\"parent_category_id\":726553,\"multi_image_url\":[\"https://res.cloudinary.com/kiwua/image/upload/v1587703875/Victor%20Antivero/Definitivas/Diox_Jab_Liquido_Med_240X24_lp4j64.jpg\", \"\", \"\", \"\", \"\", \"\"],\"inventory_enabled\":0,\"available_quantity\":100,\"price\":1.66}\n",
      "insert:  {'message': '\"name\" is not allowed to be empty', 'status': 100, 'data': {}}\n",
      "\n",
      "--------------------------------------------------------------------------------\n",
      "insert\n",
      " {\"api_key\":\"aafb702727d770509efb0b2e7576ce4f\",\"user_id\":318980,\"marketplace_user_id\":157755,\"name\":\"Gel Antibacterial Q10 110\",\"name_json\":{\"es\":\"Gel Antibacterial Q10 110\"},\"description\":\"Gel Antibacterial Dioxogen Q10 en cajas de 12 unidades de 110 cc\",\"description_json\":{\"es\":\"Gel Antibacterial Dioxogen Q10 en cajas de 12 unidades de 110 cc\"},\"long_description_json\":{\"es\":\"El gel antibacterial Dioxogen Med® es un producto antiséptico que se emplea como alternativa al agua y el jabón, para desinfectar las manos. Es sanitizante y se emplea para detener la propagación de gérmenes. Contiene microcápsulas de vitamina E que ayudan a hidratar y suavizar la piel.\"},\"parent_category_id\":1098968,\"multi_image_url\":[\"https://res.cloudinary.com/kiwua/image/upload/v1587528084/Victor%20Antivero/Definitivas/Diox_Gel_Antibacterial_Q10_110_rmpb1e.jpg\", \"\", \"\", \"\", \"\", \"\"],\"inventory_enabled\":0,\"available_quantity\":100,\"price\":0.29}\n",
      "insert: Gel Antibacterial Q10 110 {'message': 'Exitoso', 'status': 200, 'data': {'id': 5887190, 'multi_image_url': ['https://res.cloudinary.com/kiwua/image/upload/v1587528084/Victor%20Antivero/Definitivas/Diox_Gel_Antibacterial_Q10_110_rmpb1e.jpg', '', '', '', '', ''], 'thumb_url': 'https://yelodotred.s3.amazonaws.com/yelo_products/thumb-250-250-Diox_Gel_Antibacterial_Q10_110_rmpb1e.jpg'}}\n",
      "\n",
      "--------------------------------------------------------------------------------\n",
      "insert\n",
      " {\"api_key\":\"aafb702727d770509efb0b2e7576ce4f\",\"user_id\":318980,\"marketplace_user_id\":157755,\"name\":\"\",\"name_json\":{\"es\":\"\"},\"description\":\"\",\"description_json\":{\"es\":\"\"},\"long_description_json\":{\"es\":\"El gel antibacterial Dioxogen Med® es un producto antiséptico que se emplea como alternativa al agua y el jabón, para desinfectar las manos\"},\"parent_category_id\":726553,\"multi_image_url\":[\"https://res.cloudinary.com/kiwua/image/upload/v1587703875/Victor%20Antivero/Definitivas/Diox_Gel_Antibacterial_Refrescante_50_X_120_fxg3bs.jpg\", \"\", \"\", \"\", \"\", \"\"],\"inventory_enabled\":0,\"available_quantity\":100,\"price\":0.45}\n",
      "insert:  {'message': '\"name\" is not allowed to be empty', 'status': 100, 'data': {}}\n",
      "\n",
      "--------------------------------------------------------------------------------\n",
      "insert\n",
      " {\"api_key\":\"aafb702727d770509efb0b2e7576ce4f\",\"user_id\":318980,\"marketplace_user_id\":157755,\"name\":\"Gel Antibacterial 110\",\"name_json\":{\"es\":\"Gel Antibacterial 110\"},\"description\":\"Gel Antibacterial Dioxogen en cajas de 12 unidades de 110 cc\",\"description_json\":{\"es\":\"Gel Antibacterial Dioxogen en cajas de 12 unidades de 110 cc\"},\"long_description_json\":{\"es\":\"El gel antibacterial Dioxogen Med® es un producto antiséptico que se emplea como alternativa al agua y el jabón, para desinfectar las manos. Es sanitizante y se emplea para detener la propagación de gérmenes. Contiene microcápsulas de vitamina E que ayudan a hidratar y suavizar la piel.\"},\"parent_category_id\":1098968,\"multi_image_url\":[\"https://res.cloudinary.com/kiwua/image/upload/v1587528084/Victor%20Antivero/Definitivas/Diox_Gel_Antibacterial_Q10_110_rmpb1e.jpg\", \"\", \"\", \"\", \"\", \"\"],\"inventory_enabled\":0,\"available_quantity\":100,\"price\":0.83}\n",
      "insert: Gel Antibacterial 110 {'message': 'Exitoso', 'status': 200, 'data': {'id': 5887191, 'multi_image_url': ['https://res.cloudinary.com/kiwua/image/upload/v1587528084/Victor%20Antivero/Definitivas/Diox_Gel_Antibacterial_Q10_110_rmpb1e.jpg', '', '', '', '', ''], 'thumb_url': 'https://yelodotred.s3.amazonaws.com/yelo_products/thumb-250-250-Diox_Gel_Antibacterial_Q10_110_rmpb1e.jpg'}}\n",
      "\n",
      "--------------------------------------------------------------------------------\n",
      "insert\n",
      " {\"api_key\":\"aafb702727d770509efb0b2e7576ce4f\",\"user_id\":318980,\"marketplace_user_id\":157755,\"name\":\"Gel Antibacterial 220\",\"name_json\":{\"es\":\"Gel Antibacterial 220\"},\"description\":\"Gel Antibacterial Dioxogen en cajas de 12 unidades de 220 cc\",\"description_json\":{\"es\":\"Gel Antibacterial Dioxogen en cajas de 12 unidades de 220 cc\"},\"long_description_json\":{\"es\":\"El gel antibacterial Dioxogen Med® es un producto antiséptico que se emplea como alternativa al agua y el jabón, para desinfectar las manos. Es sanitizante y se emplea para detener la propagación de gérmenes. Contiene microcápsulas de vitamina E que ayudan a hidratar y suavizar la piel.\"},\"parent_category_id\":1098968,\"multi_image_url\":[\"https://res.cloudinary.com/kiwua/image/upload/v1587528084/Victor%20Antivero/Definitivas/Diox_Gel_Antibacterial_220_fhusfe.jpg\", \"\", \"\", \"\", \"\", \"\"],\"inventory_enabled\":0,\"available_quantity\":100,\"price\":1.3}\n"
     ]
    },
    {
     "name": "stdout",
     "output_type": "stream",
     "text": [
      "insert: Gel Antibacterial 220 {'message': 'Exitoso', 'status': 200, 'data': {'id': 5887192, 'multi_image_url': ['https://res.cloudinary.com/kiwua/image/upload/v1587528084/Victor%20Antivero/Definitivas/Diox_Gel_Antibacterial_220_fhusfe.jpg', '', '', '', '', ''], 'thumb_url': 'https://yelodotred.s3.amazonaws.com/yelo_products/thumb-250-250-Diox_Gel_Antibacterial_220_fhusfe.jpg'}}\n",
      "\n",
      "--------------------------------------------------------------------------------\n",
      "Register imcomplete [1098968, 0.45, '', ['', '', '', '', '', '']]\n",
      "Register imcomplete [1098968, 0.47, '', ['', '', '', '', '', '']]\n",
      "insert\n",
      " {\"api_key\":\"aafb702727d770509efb0b2e7576ce4f\",\"user_id\":318980,\"marketplace_user_id\":157755,\"name\":\"\",\"name_json\":{\"es\":\"\"},\"description\":\"\",\"description_json\":{\"es\":\"\"},\"long_description_json\":{\"es\":\"Es Antiséptico y está especialmente formulado para la limpieza, desinfección y humectación de la piel\"},\"parent_category_id\":726553,\"multi_image_url\":[\"https://res.cloudinary.com/kiwua/image/upload/v1587703875/Victor%20Antivero/Definitivas/Diox_Jab_Liquido_Med_240_X_12_saxnb0.jpg\", \"\", \"\", \"\", \"\", \"\"],\"inventory_enabled\":0,\"available_quantity\":100,\"price\":1.66}\n",
      "insert:  {'message': '\"name\" is not allowed to be empty', 'status': 100, 'data': {}}\n",
      "\n",
      "--------------------------------------------------------------------------------\n",
      "insert\n",
      " {\"api_key\":\"aafb702727d770509efb0b2e7576ce4f\",\"user_id\":318980,\"marketplace_user_id\":157755,\"name\":\"Diox Roll Aloe Vera 90 g\",\"name_json\":{\"es\":\"Diox Roll Aloe Vera 90 g\"},\"description\":\"Desodorante Dioxogen Roll Aloe Vera en cajas de 36 unidades 90 g\",\"description_json\":{\"es\":\"Desodorante Dioxogen Roll Aloe Vera en cajas de 36 unidades 90 g\"},\"long_description_json\":{\"es\":\"En su formulación ha sido incluido el extracto de Aloe vera que permite la regeneración de la piel ayudando a refrescarla e hidratarla, está indicada para las personas con piel sensible, irritada o recién afeitada\"},\"parent_category_id\":1098969,\"multi_image_url\":[\"https://res.cloudinary.com/kiwua/image/upload/v1587528087/Victor%20Antivero/Definitivas/Diox_Roll_Aloe_fgs1p3.jpg\", \"\", \"\", \"\", \"\", \"\"],\"inventory_enabled\":0,\"available_quantity\":100,\"price\":0.65}\n",
      "insert: Diox Roll Aloe Vera 90 g {'message': 'Exitoso', 'status': 200, 'data': {'id': 5887193, 'multi_image_url': ['https://res.cloudinary.com/kiwua/image/upload/v1587528087/Victor%20Antivero/Definitivas/Diox_Roll_Aloe_fgs1p3.jpg', '', '', '', '', ''], 'thumb_url': 'https://yelodotred.s3.amazonaws.com/yelo_products/thumb-250-250-Diox_Roll_Aloe_fgs1p3.jpg'}}\n",
      "\n",
      "--------------------------------------------------------------------------------\n",
      "insert\n",
      " {\"api_key\":\"aafb702727d770509efb0b2e7576ce4f\",\"user_id\":318980,\"marketplace_user_id\":157755,\"name\":\"Diox Roll Bicarbonato 90 g\",\"name_json\":{\"es\":\"Diox Roll Bicarbonato 90 g\"},\"description\":\"Desodorante Dioxogen Roll Bicarbonato en cajas de 36 unidades 90 g\",\"description_json\":{\"es\":\"Desodorante Dioxogen Roll Bicarbonato en cajas de 36 unidades 90 g\"},\"long_description_json\":{\"es\":\"Protege contra los olores fuertes ocasionados por la sudoración\"},\"parent_category_id\":1098969,\"multi_image_url\":[\"https://res.cloudinary.com/kiwua/image/upload/v1587528088/Victor%20Antivero/Definitivas/Diox_Roll_Bicarb_sl6led.jpg\", \"\", \"\", \"\", \"\", \"\"],\"inventory_enabled\":0,\"available_quantity\":100,\"price\":0.65}\n",
      "insert: Diox Roll Bicarbonato 90 g {'message': 'Exitoso', 'status': 200, 'data': {'id': 5887194, 'multi_image_url': ['https://res.cloudinary.com/kiwua/image/upload/v1587528088/Victor%20Antivero/Definitivas/Diox_Roll_Bicarb_sl6led.jpg', '', '', '', '', ''], 'thumb_url': 'https://yelodotred.s3.amazonaws.com/yelo_products/thumb-250-250-Diox_Roll_Bicarb_sl6led.jpg'}}\n",
      "\n",
      "--------------------------------------------------------------------------------\n",
      "insert\n",
      " {\"api_key\":\"aafb702727d770509efb0b2e7576ce4f\",\"user_id\":318980,\"marketplace_user_id\":157755,\"name\":\"Diox Roll Original 90 g\",\"name_json\":{\"es\":\"Diox Roll Original 90 g\"},\"description\":\"Desodorante Dioxogen Roll Original en cajas de 36 unidades 90 g\",\"description_json\":{\"es\":\"Desodorante Dioxogen Roll Original en cajas de 36 unidades 90 g\"},\"long_description_json\":{\"es\":\"La línea de desodorante antitranspirante Dioxogen® es la única hipoalergénica del mercado, especialmente formulada y probada dermatológicamente para garantizar a los consumidores la tranquilidad de una protección integral de la piel\"},\"parent_category_id\":1098969,\"multi_image_url\":[\"https://res.cloudinary.com/kiwua/image/upload/v1587528098/Victor%20Antivero/Definitivas/Diox_Roll_Orig_yayr9y.jpg\", \"\", \"\", \"\", \"\", \"\"],\"inventory_enabled\":0,\"available_quantity\":100,\"price\":0.65}\n",
      "insert: Diox Roll Original 90 g {'message': 'Exitoso', 'status': 200, 'data': {'id': 5887195, 'multi_image_url': ['https://res.cloudinary.com/kiwua/image/upload/v1587528098/Victor%20Antivero/Definitivas/Diox_Roll_Orig_yayr9y.jpg', '', '', '', '', ''], 'thumb_url': 'https://yelodotred.s3.amazonaws.com/yelo_products/thumb-250-250-Diox_Roll_Orig_yayr9y.jpg'}}\n",
      "\n",
      "--------------------------------------------------------------------------------\n",
      "insert\n",
      " {\"api_key\":\"aafb702727d770509efb0b2e7576ce4f\",\"user_id\":318980,\"marketplace_user_id\":157755,\"name\":\"Diox Roll Talco 90 g\",\"name_json\":{\"es\":\"Diox Roll Talco 90 g\"},\"description\":\"Desodorante Dioxogen Roll Talco en cajas de 36 unidades 90 g\",\"description_json\":{\"es\":\"Desodorante Dioxogen Roll Talco en cajas de 36 unidades 90 g\"},\"long_description_json\":{\"es\":\"Para piel de alta sudoración\"},\"parent_category_id\":1098969,\"multi_image_url\":[\"https://res.cloudinary.com/kiwua/image/upload/v1587528091/Victor%20Antivero/Definitivas/Diox_Roll_Talco_cjexke.jpg\", \"\", \"\", \"\", \"\", \"\"],\"inventory_enabled\":0,\"available_quantity\":100,\"price\":0.65}\n",
      "insert: Diox Roll Talco 90 g {'message': 'Exitoso', 'status': 200, 'data': {'id': 5887196, 'multi_image_url': ['https://res.cloudinary.com/kiwua/image/upload/v1587528091/Victor%20Antivero/Definitivas/Diox_Roll_Talco_cjexke.jpg', '', '', '', '', ''], 'thumb_url': 'https://yelodotred.s3.amazonaws.com/yelo_products/thumb-250-250-Diox_Roll_Talco_cjexke.jpg'}}\n",
      "\n",
      "--------------------------------------------------------------------------------\n",
      "Register imcomplete [1098969, 0.3, '', ['', '', '', '', '', '']]\n",
      "Register imcomplete [1098969, 0.29, '', ['', '', '', '', '', '']]\n",
      "insert\n",
      " {\"api_key\":\"aafb702727d770509efb0b2e7576ce4f\",\"user_id\":318980,\"marketplace_user_id\":157755,\"name\":\"Dioxogen Jabón Liquido Aloe Vera\",\"name_json\":{\"es\":\"Dioxogen Jabón Liquido Aloe Vera\"},\"description\":\"Dioxogen Jabón Liquido Aloe Vera en cajas de 12 unidadaes 230 cc\",\"description_json\":{\"es\":\"Dioxogen Jabón Liquido Aloe Vera en cajas de 12 unidadaes 230 cc\"},\"long_description_json\":{\"es\":\"Los jabones líquidos para las manos de Dioxogen® ofrecen protección integral de uso diario para toda la familia. Cada producto ha sido formulado específicamente para atender los diferentes necesidades y tipos de piel\"},\"parent_category_id\":1098968,\"multi_image_url\":[\"https://res.cloudinary.com/kiwua/image/upload/v1587528098/Victor%20Antivero/Definitivas/Dioxogen_Jab%C3%B3n_Liquido_Aloe_Vera_cp54bh.jpg\", \"\", \"\", \"\", \"\", \"\"],\"inventory_enabled\":0,\"available_quantity\":100,\"price\":1.34}\n",
      "insert: Dioxogen Jabón Liquido Aloe Vera {'message': 'Exitoso', 'status': 200, 'data': {'id': 5887197, 'multi_image_url': ['https://res.cloudinary.com/kiwua/image/upload/v1587528098/Victor%20Antivero/Definitivas/Dioxogen_Jab%C3%B3n_Liquido_Aloe_Vera_cp54bh.jpg', '', '', '', '', ''], 'thumb_url': 'https://yelodotred.s3.amazonaws.com/yelo_products/thumb-250-250-Dioxogen_Jab%25C3%25B3n_Liquido_Aloe_Vera_cp54bh.jpg'}}\n",
      "\n",
      "--------------------------------------------------------------------------------\n",
      "Register imcomplete [None, 1.34, '', ['', '', '', '', '', '']]\n",
      "insert\n",
      " {\"api_key\":\"aafb702727d770509efb0b2e7576ce4f\",\"user_id\":318980,\"marketplace_user_id\":157755,\"name\":\"Dioxogen Solución 115 cm3\",\"name_json\":{\"es\":\"Dioxogen Solución 115 cm3\"},\"description\":\"Dioxogen Solución Antiséptica en cajas de 24 unidades 115 cm3\",\"description_json\":{\"es\":\"Dioxogen Solución Antiséptica en cajas de 24 unidades 115 cm3\"},\"long_description_json\":{\"es\":\"Excelente para eliminar todo tipo de microorganismos, tales como bacterias, virus, hongos y esporas. Es recomendado su uso para desinfectar cualquier tipo de heridas, en especial zonas escondidas o profundas donde sobreviven los gérmenes anaeróbicos.\"},\"parent_category_id\":726553,\"multi_image_url\":[\"https://res.cloudinary.com/kiwua/image/upload/v1587528092/Victor%20Antivero/Definitivas/Dioxogen_Soluci%C3%B3n_115_pssrkh.jpg\", \"\", \"\", \"\", \"\", \"\"],\"inventory_enabled\":0,\"available_quantity\":100,\"price\":0.32}\n"
     ]
    },
    {
     "name": "stdout",
     "output_type": "stream",
     "text": [
      "insert: Dioxogen Solución 115 cm3 {'message': 'Exitoso', 'status': 200, 'data': {'id': 5887198, 'multi_image_url': ['https://res.cloudinary.com/kiwua/image/upload/v1587528092/Victor%20Antivero/Definitivas/Dioxogen_Soluci%C3%B3n_115_pssrkh.jpg', '', '', '', '', ''], 'thumb_url': 'https://yelodotred.s3.amazonaws.com/yelo_products/thumb-250-250-Dioxogen_Soluci%25C3%25B3n_115_pssrkh.jpg'}}\n",
      "\n",
      "--------------------------------------------------------------------------------\n",
      "insert\n",
      " {\"api_key\":\"aafb702727d770509efb0b2e7576ce4f\",\"user_id\":318980,\"marketplace_user_id\":157755,\"name\":\"Dioxogen Solución 230 cm3\",\"name_json\":{\"es\":\"Dioxogen Solución 230 cm3\"},\"description\":\"Dioxogen Solución Antiséptica en cajas de 24 unidades 230 cm3\",\"description_json\":{\"es\":\"Dioxogen Solución Antiséptica en cajas de 24 unidades 230 cm3\"},\"long_description_json\":{\"es\":\"Excelente para eliminar todo tipo de microorganismos, tales como bacterias, virus, hongos y esporas. Es recomendado su uso para desinfectar cualquier tipo de heridas, en especial zonas escondidas o profundas donde sobreviven los gérmenes anaeróbicos.\"},\"parent_category_id\":726553,\"multi_image_url\":[\"https://res.cloudinary.com/kiwua/image/upload/v1587528093/Victor%20Antivero/Definitivas/Dioxogen_Soluci%C3%B3n_230_ste7lk.jpg\", \"\", \"\", \"\", \"\", \"\"],\"inventory_enabled\":0,\"available_quantity\":100,\"price\":0.4}\n",
      "insert: Dioxogen Solución 230 cm3 {'message': 'Exitoso', 'status': 200, 'data': {'id': 5887199, 'multi_image_url': ['https://res.cloudinary.com/kiwua/image/upload/v1587528093/Victor%20Antivero/Definitivas/Dioxogen_Soluci%C3%B3n_230_ste7lk.jpg', '', '', '', '', ''], 'thumb_url': 'https://yelodotred.s3.amazonaws.com/yelo_products/thumb-250-250-Dioxogen_Soluci%25C3%25B3n_230_ste7lk.jpg'}}\n",
      "\n",
      "--------------------------------------------------------------------------------\n",
      "Register imcomplete [None, 0.51, 'Dioxogen Solución Antiséptica en cajas de 12 unidades 460 cm3', ['https://res.cloudinary.com/kiwua/image/upload/v1587528094/Victor%20Antivero/Definitivas/Dioxogen_Soluci%C3%B3n_460_oyvyum.jpg', '', '', '', '', '']]\n",
      "Register imcomplete [None, 0.51, '', ['', '', '', '', '', '']]\n",
      "Register imcomplete [None, 0.71, '', ['', '', '', '', '', '']]\n",
      "Register imcomplete [None, 0.71, '', ['', '', '', '', '', '']]\n",
      "Register imcomplete [None, 0.14, '', ['', '', '', '', '', '']]\n",
      "Register imcomplete [None, 0.15, '', ['', '', '', '', '', '']]\n",
      "Register imcomplete [None, 0.24, '', ['', '', '', '', '', '']]\n",
      "Register imcomplete [None, 0.14, '', ['', '', '', '', '', '']]\n",
      "Register imcomplete [None, 0.16, '', ['', '', '', '', '', '']]\n",
      "Register imcomplete [None, 0.05, '', ['', '', '', '', '', '']]\n",
      "Register imcomplete [None, 0.05, '', ['', '', '', '', '', '']]\n",
      "Register imcomplete [None, 0.12, '', ['', '', '', '', '', '']]\n",
      "Register imcomplete [None, 0.11, '', ['', '', '', '', '', '']]\n",
      "Register imcomplete [None, 0.87, '', ['', '', '', '', '', '']]\n",
      "Register imcomplete [None, 0.06, '', ['', '', '', '', '', '']]\n",
      "insert\n",
      " {\"api_key\":\"aafb702727d770509efb0b2e7576ce4f\",\"user_id\":318980,\"marketplace_user_id\":157755,\"name\":\"Overskin Tubo Pañalitis 10%\",\"name_json\":{\"es\":\"Overskin Tubo Pañalitis 10%\"},\"description\":\"Overskin tubo Pañalitis en cajas de 12 unidades 50g\",\"description_json\":{\"es\":\"Overskin tubo Pañalitis en cajas de 12 unidades 50g\"},\"long_description_json\":{\"es\":\"Es la crema más eficiente para aliviar, suavizar y proteger la delicada piel de los bebes contra la pañalitis\"},\"parent_category_id\":726553,\"multi_image_url\":[\"https://res.cloudinary.com/kiwua/image/upload/v1587528114/Victor%20Antivero/Definitivas/Overskin_Tubo_Pa%C3%B1alit_10_po2pw4.jpg\", \"\", \"\", \"\", \"\", \"\"],\"inventory_enabled\":0,\"available_quantity\":100,\"price\":0.73}\n",
      "insert: Overskin Tubo Pañalitis 10% {'message': 'Exitoso', 'status': 200, 'data': {'id': 5887200, 'multi_image_url': ['https://res.cloudinary.com/kiwua/image/upload/v1587528114/Victor%20Antivero/Definitivas/Overskin_Tubo_Pa%C3%B1alit_10_po2pw4.jpg', '', '', '', '', ''], 'thumb_url': 'https://yelodotred.s3.amazonaws.com/yelo_products/thumb-250-250-Overskin_Tubo_Pa%25C3%25B1alit_10_po2pw4.jpg'}}\n",
      "\n",
      "--------------------------------------------------------------------------------\n",
      "insert\n",
      " {\"api_key\":\"aafb702727d770509efb0b2e7576ce4f\",\"user_id\":318980,\"marketplace_user_id\":157755,\"name\":\"Starkids Crema 250g\",\"name_json\":{\"es\":\"Starkids Crema 250g\"},\"description\":\"Starkids Crema en cajas de 12 unidades 250g\",\"description_json\":{\"es\":\"Starkids Crema en cajas de 12 unidades 250g\"},\"long_description_json\":{\"es\":\"Crema humectante Starkids 250g proporciona hidratación y suavidad durante todo el día manteniendo tu piel saludable y dejándola con un delicioso aroma...\"},\"parent_category_id\":726553,\"multi_image_url\":[\"https://res.cloudinary.com/kiwua/image/upload/v1587528097/Victor%20Antivero/Definitivas/Starkids_Crema_250_abdfsw.jpg\", \"\", \"\", \"\", \"\", \"\"],\"inventory_enabled\":0,\"available_quantity\":100,\"price\":2.07}\n",
      "insert: Starkids Crema 250g {'message': 'Exitoso', 'status': 200, 'data': {'id': 5887201, 'multi_image_url': ['https://res.cloudinary.com/kiwua/image/upload/v1587528097/Victor%20Antivero/Definitivas/Starkids_Crema_250_abdfsw.jpg', '', '', '', '', ''], 'thumb_url': 'https://yelodotred.s3.amazonaws.com/yelo_products/thumb-250-250-Starkids_Crema_250_abdfsw.jpg'}}\n",
      "\n",
      "--------------------------------------------------------------------------------\n",
      "Register imcomplete [726553, 0.03, '', ['', '', '', '', '', '']]\n",
      "Register imcomplete [726553, 0.02, '', ['', '', '', '', '', '']]\n",
      "insert\n",
      " {\"api_key\":\"aafb702727d770509efb0b2e7576ce4f\",\"user_id\":318980,\"marketplace_user_id\":157755,\"name\":\"Vitenol Crema 15g\",\"name_json\":{\"es\":\"Vitenol Crema 15g\"},\"description\":\"Vitenol Crema en cajas de 24 unidades15g\",\"description_json\":{\"es\":\"Vitenol Crema en cajas de 24 unidades15g\"},\"long_description_json\":{\"es\":\"Vitenol es una crema ideal para combatir una amplia variedad de lesiones cutáneas, suministrándole suavidad y protección a la piel. Este producto fue introducido en el mercado en el año\"},\"parent_category_id\":726553,\"multi_image_url\":[\"https://res.cloudinary.com/kiwua/image/upload/v1587528098/Victor%20Antivero/Definitivas/Vitenol_Crema_15X24_m2rc4f.jpg\", \"\", \"\", \"\", \"\", \"\"],\"inventory_enabled\":0,\"available_quantity\":100,\"price\":0.41}\n",
      "insert: Vitenol Crema 15g {'message': 'Exitoso', 'status': 200, 'data': {'id': 5887202, 'multi_image_url': ['https://res.cloudinary.com/kiwua/image/upload/v1587528098/Victor%20Antivero/Definitivas/Vitenol_Crema_15X24_m2rc4f.jpg', '', '', '', '', ''], 'thumb_url': 'https://yelodotred.s3.amazonaws.com/yelo_products/thumb-250-250-Vitenol_Crema_15X24_m2rc4f.jpg'}}\n",
      "\n",
      "--------------------------------------------------------------------------------\n",
      "insert\n",
      " {\"api_key\":\"aafb702727d770509efb0b2e7576ce4f\",\"user_id\":318980,\"marketplace_user_id\":157755,\"name\":\"Wampole Emulsión Fresa 240 ml\",\"name_json\":{\"es\":\"Wampole Emulsión Fresa 240 ml\"},\"description\":\"Wampole Emulsión Fresa caja de 12 unidades 240 ml.\",\"description_json\":{\"es\":\"Wampole Emulsión Fresa caja de 12 unidades 240 ml.\"},\"long_description_json\":{\"es\":\"Wampole es una línea de productos de complementos vitamínicos hechos para los niños, proporcionando los nutrientes necesarios para su desarrollo físico y mental\"},\"parent_category_id\":1098971,\"multi_image_url\":[\"https://res.cloudinary.com/kiwua/image/upload/v1587528116/Victor%20Antivero/Definitivas/Wampole_Emuls_Fresa_240X36_xe1ddw.jpg\", \"\", \"\", \"\", \"\", \"\"],\"inventory_enabled\":0,\"available_quantity\":100,\"price\":0.71}\n",
      "insert: Wampole Emulsión Fresa 240 ml {'message': 'Exitoso', 'status': 200, 'data': {'id': 5887205, 'multi_image_url': ['https://res.cloudinary.com/kiwua/image/upload/v1587528116/Victor%20Antivero/Definitivas/Wampole_Emuls_Fresa_240X36_xe1ddw.jpg', '', '', '', '', ''], 'thumb_url': 'https://yelodotred.s3.amazonaws.com/yelo_products/thumb-250-250-Wampole_Emuls_Fresa_240X36_xe1ddw.jpg'}}\n",
      "\n",
      "--------------------------------------------------------------------------------\n",
      "Register imcomplete [1098971, 0.71, '', ['', '', '', '', '', '']]\n",
      "insert\n",
      " {\"api_key\":\"aafb702727d770509efb0b2e7576ce4f\",\"user_id\":318980,\"marketplace_user_id\":157755,\"name\":\"Wampole Emulsión Fresa 360 ml\",\"name_json\":{\"es\":\"Wampole Emulsión Fresa 360 ml\"},\"description\":\"Wampole Emulsión Fresa caja de 12 unidades 360 ml.\",\"description_json\":{\"es\":\"Wampole Emulsión Fresa caja de 12 unidades 360 ml.\"},\"long_description_json\":{\"es\":\"Wampole es una línea de productos de complementos vitamínicos hechos para los niños, proporcionando los nutrientes necesarios para su desarrollo físico y mental\"},\"parent_category_id\":1098971,\"multi_image_url\":[\"https://res.cloudinary.com/kiwua/image/upload/v1587528101/Victor%20Antivero/Definitivas/Wampole_Emuls_Fresa_360X24_thh7os.jpg\", \"\", \"\", \"\", \"\", \"\"],\"inventory_enabled\":0,\"available_quantity\":100,\"price\":1.07}\n"
     ]
    },
    {
     "name": "stdout",
     "output_type": "stream",
     "text": [
      "insert: Wampole Emulsión Fresa 360 ml {'message': 'Exitoso', 'status': 200, 'data': {'id': 5887206, 'multi_image_url': ['https://res.cloudinary.com/kiwua/image/upload/v1587528101/Victor%20Antivero/Definitivas/Wampole_Emuls_Fresa_360X24_thh7os.jpg', '', '', '', '', ''], 'thumb_url': 'https://yelodotred.s3.amazonaws.com/yelo_products/thumb-250-250-Wampole_Emuls_Fresa_360X24_thh7os.jpg'}}\n",
      "\n",
      "--------------------------------------------------------------------------------\n",
      "Register imcomplete [1098971, 1.07, '', ['', '', '', '', '', '']]\n",
      "insert\n",
      " {\"api_key\":\"aafb702727d770509efb0b2e7576ce4f\",\"user_id\":318980,\"marketplace_user_id\":157755,\"name\":\"Wampole Emulsión Naranja 240 ml\",\"name_json\":{\"es\":\"Wampole Emulsión Naranja 240 ml\"},\"description\":\"Wampole Emulsión Naranja caja de 12 unidades 240 ml.\",\"description_json\":{\"es\":\"Wampole Emulsión Naranja caja de 12 unidades 240 ml.\"},\"long_description_json\":{\"es\":\"Wampole es una línea de productos de complementos vitamínicos hechos para los niños, proporcionando los nutrientes necesarios para su desarrollo físico y mental\"},\"parent_category_id\":1098971,\"multi_image_url\":[\"https://res.cloudinary.com/kiwua/image/upload/v1587528102/Victor%20Antivero/Definitivas/Wampole_Emuls_Naranja_240X36_xfvdlz.jpg\", \"\", \"\", \"\", \"\", \"\"],\"inventory_enabled\":0,\"available_quantity\":100,\"price\":0.71}\n",
      "insert: Wampole Emulsión Naranja 240 ml {'message': 'Exitoso', 'status': 200, 'data': {'id': 5887207, 'multi_image_url': ['https://res.cloudinary.com/kiwua/image/upload/v1587528102/Victor%20Antivero/Definitivas/Wampole_Emuls_Naranja_240X36_xfvdlz.jpg', '', '', '', '', ''], 'thumb_url': 'https://yelodotred.s3.amazonaws.com/yelo_products/thumb-250-250-Wampole_Emuls_Naranja_240X36_xfvdlz.jpg'}}\n",
      "\n",
      "--------------------------------------------------------------------------------\n",
      "Register imcomplete [1098971, 0.71, '', ['', '', '', '', '', '']]\n",
      "Register imcomplete [None, 1.07, 'Wampole Emulsión Naranja caja de 12 unidades 360 ml.', ['https://res.cloudinary.com/kiwua/image/upload/v1587528103/Victor%20Antivero/Definitivas/Wampole_Emuls_Naranja_360X24_ad5xa5.jpg', '', '', '', '', '']]\n",
      "Register imcomplete [None, 1.07, '', ['', '', '', '', '', '']]\n",
      "insert\n",
      " {\"api_key\":\"aafb702727d770509efb0b2e7576ce4f\",\"user_id\":318980,\"marketplace_user_id\":157755,\"name\":\"Wampole Emulsión Tutti Frutti 240 ml\",\"name_json\":{\"es\":\"Wampole Emulsión Tutti Frutti 240 ml\"},\"description\":\"Wampole Emulsión Tutti Frutti caja de 12 unidades 240 ml.\",\"description_json\":{\"es\":\"Wampole Emulsión Tutti Frutti caja de 12 unidades 240 ml.\"},\"long_description_json\":{\"es\":\"Wampole es una línea de productos de complementos vitamínicos hechos para los niños, proporcionando los nutrientes necesarios para su desarrollo físico y mental\"},\"parent_category_id\":1098971,\"multi_image_url\":[\"https://res.cloudinary.com/kiwua/image/upload/v1587528116/Victor%20Antivero/Definitivas/Wampole_Emuls_Tut_Fruti_240X36_ir7pct.jpg\", \"\", \"\", \"\", \"\", \"\"],\"inventory_enabled\":0,\"available_quantity\":100,\"price\":0.71}\n",
      "insert: Wampole Emulsión Tutti Frutti 240 ml {'message': 'Exitoso', 'status': 200, 'data': {'id': 5887208, 'multi_image_url': ['https://res.cloudinary.com/kiwua/image/upload/v1587528116/Victor%20Antivero/Definitivas/Wampole_Emuls_Tut_Fruti_240X36_ir7pct.jpg', '', '', '', '', ''], 'thumb_url': 'https://yelodotred.s3.amazonaws.com/yelo_products/thumb-250-250-Wampole_Emuls_Tut_Fruti_240X36_ir7pct.jpg'}}\n",
      "\n",
      "--------------------------------------------------------------------------------\n",
      "insert\n",
      " {\"api_key\":\"aafb702727d770509efb0b2e7576ce4f\",\"user_id\":318980,\"marketplace_user_id\":157755,\"name\":\"Wampole Emulsión Tutti Frutti 360 ml\",\"name_json\":{\"es\":\"Wampole Emulsión Tutti Frutti 360 ml\"},\"description\":\"Wampole Emulsión Tutti Frutti caja de 12 unidades 360 ml.\",\"description_json\":{\"es\":\"Wampole Emulsión Tutti Frutti caja de 12 unidades 360 ml.\"},\"long_description_json\":{\"es\":\"Wampole es una línea de productos de complementos vitamínicos hechos para los niños, proporcionando los nutrientes necesarios para su desarrollo físico y mental\"},\"parent_category_id\":1098971,\"multi_image_url\":[\"https://res.cloudinary.com/kiwua/image/upload/v1587528105/Victor%20Antivero/Definitivas/Wampole_Emuls_Tut_Fruti_360X24_dktcfc.jpg\", \"\", \"\", \"\", \"\", \"\"],\"inventory_enabled\":0,\"available_quantity\":100,\"price\":1.07}\n",
      "insert: Wampole Emulsión Tutti Frutti 360 ml {'message': 'Exitoso', 'status': 200, 'data': {'id': 5887209, 'multi_image_url': ['https://res.cloudinary.com/kiwua/image/upload/v1587528105/Victor%20Antivero/Definitivas/Wampole_Emuls_Tut_Fruti_360X24_dktcfc.jpg', '', '', '', '', ''], 'thumb_url': 'https://yelodotred.s3.amazonaws.com/yelo_products/thumb-250-250-Wampole_Emuls_Tut_Fruti_360X24_dktcfc.jpg'}}\n",
      "\n",
      "--------------------------------------------------------------------------------\n",
      "Register imcomplete [1098971, 1.07, '', ['', '', '', '', '', '']]\n",
      "Register imcomplete [1098971, 0.71, '', ['', '', '', '', '', '']]\n",
      "Updated : 0  records\n",
      "Inserted: 30  records\n"
     ]
    }
   ],
   "source": [
    "###############################################\n",
    "# Step 2. Update products in kiwua...\n",
    "###############################################\n",
    "products = sheet_victor_antiveros.get_all_records()\n",
    "factor   = merchant_to_set_markup[merchants['Víctor Antivero']]\n",
    "cont1=0\n",
    "cont2=0\n",
    "for product in products:\n",
    "        name             = product['Nombre Kiwua']\n",
    "        category_id      = categorias_victor_antiveros.get(product['Categoría Kiwua'])\n",
    "        price            = float(product['Precio (Convenio 01)'].replace('.','').replace(',','.'))\n",
    "        price            = price/tasa_cambio_bs_dollar\n",
    "        price            = round(price*factor,2)\n",
    "        description      = product['Descripción Kiwua (Presentación)']\n",
    "        long_description = product['Descripción Larga Kiwua (Beneficio & usos)']\n",
    "        image_url        = concat_images(product['URL Imagen 1'],\n",
    "                                         product['URL Imagen 2'],\n",
    "                                         product['URL Imagen 3'],\n",
    "                                         product['URL Imagen 4'],\n",
    "                                         product['URL Imagen 5'],\n",
    "                                         product['URL Imagen 6'])\n",
    "        resp1 = 1\n",
    "        resp2 = 1\n",
    "        try:\n",
    "            product_id  = products_kiwua[chang1(name)][0]\n",
    "            disable_product(user_id,[product_id],1)\n",
    "            resp1       = update_product(  user_id      = user_id\n",
    "                                           ,product_id  = product_id\n",
    "                                           ,name        = name\n",
    "                                           ,price       = price\n",
    "                                           ,image_url   = image_url\n",
    "                                           ,description = description)\n",
    "            if resp1==0:\n",
    "                cont1+=1\n",
    "        except KeyError:\n",
    "            if verify_insert_conditions(category_id,price,description,image_url):\n",
    "                resp2 = insert_product(user_id          = user_id, \n",
    "                                       category_id      = category_id,\n",
    "                                       name             = name,\n",
    "                                       price            = price,\n",
    "                                       description      = description,\n",
    "                                       long_description = long_description,\n",
    "                                       image_url        = image_url)\n",
    "            else:\n",
    "                print('Register imcomplete',[category_id,price,description,image_url])\n",
    "            if resp2==0:\n",
    "                cont2+=1\n",
    "print('Updated :',cont1,' records')\n",
    "print('Inserted:',cont2,' records')"
   ]
  },
  {
   "cell_type": "code",
   "execution_count": null,
   "metadata": {},
   "outputs": [],
   "source": [
    "products=sheet_victor_antiveros.get_all_records()"
   ]
  },
  {
   "cell_type": "code",
   "execution_count": null,
   "metadata": {},
   "outputs": [],
   "source": [
    "float(products[0]['Precio (Convenio 01)'].replace('.','').replace(',','.'))"
   ]
  },
  {
   "cell_type": "code",
   "execution_count": null,
   "metadata": {},
   "outputs": [],
   "source": [
    "products = sheet.get_all_records()\n",
    "\n",
    "all_cells = sheet.range('A1:A3')\n",
    "\n",
    "print(all_cells[0].value)\n",
    "\n",
    "B2 = sheet.acell('B2').value\n",
    "\n",
    "print(B2)\n",
    "\n",
    "coord = sheet.cell(2, 1).value\n",
    "\n",
    "print(coord)\n",
    "\n",
    "row = sheet.row_values(1) # first row\n",
    "\n",
    "col = sheet.col_values(2) # models\n",
    "\n",
    "sheet.update_acell('C2', 'Blue')\n",
    "\n",
    "sheet.update_cell(2, 1, 6666)\n",
    "\n",
    "coord = sheet.cell(2, 1).value\n",
    "\n",
    "print(coord)"
   ]
  }
 ],
 "metadata": {
  "kernelspec": {
   "display_name": "Python 3",
   "language": "python",
   "name": "python3"
  },
  "language_info": {
   "codemirror_mode": {
    "name": "ipython",
    "version": 3
   },
   "file_extension": ".py",
   "mimetype": "text/x-python",
   "name": "python",
   "nbconvert_exporter": "python",
   "pygments_lexer": "ipython3",
   "version": "3.6.5"
  }
 },
 "nbformat": 4,
 "nbformat_minor": 2
}
